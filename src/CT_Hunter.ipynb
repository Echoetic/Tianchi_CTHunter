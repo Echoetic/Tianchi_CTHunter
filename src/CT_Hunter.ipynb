{
 "cells": [
  {
   "cell_type": "markdown",
   "id": "b861b00f",
   "metadata": {},
   "source": [
    "## **题目3：CT猎人：医学影像报告异常检测**\n",
    "#### 一、导入必要的库"
   ]
  },
  {
   "cell_type": "code",
   "execution_count": 15,
   "id": "6e9649c3",
   "metadata": {},
   "outputs": [],
   "source": [
    "import numpy as np\n",
    "import pandas as pd\n",
    "import torch\n",
    "import torch.nn as nn\n",
    "import torch.optim as optim\n",
    "from torch.utils.data import Dataset, DataLoader\n",
    "from sklearn.metrics import roc_auc_score\n",
    "from tqdm import tqdm\n",
    "import matplotlib.pyplot as plt\n",
    "import math"
   ]
  },
  {
   "cell_type": "markdown",
   "id": "f056f2f3",
   "metadata": {},
   "source": [
    "#### 二、设置随机种子以确保可复现性"
   ]
  },
  {
   "cell_type": "code",
   "execution_count": 16,
   "id": "6bcc21a4",
   "metadata": {},
   "outputs": [],
   "source": [
    "seed = 42\n",
    "torch.manual_seed(seed)\n",
    "np.random.seed(seed)\n",
    "if torch.cuda.is_available():\n",
    "    torch.cuda.manual_seed_all(seed)"
   ]
  },
  {
   "cell_type": "markdown",
   "id": "c7bd760b",
   "metadata": {},
   "source": [
    "#### 三、设置设备"
   ]
  },
  {
   "cell_type": "code",
   "execution_count": 17,
   "id": "73da343a",
   "metadata": {},
   "outputs": [
    {
     "name": "stdout",
     "output_type": "stream",
     "text": [
      "使用设备: cpu\n"
     ]
    }
   ],
   "source": [
    "device = torch.device(\"cuda\" if torch.cuda.is_available() else \"cpu\")\n",
    "print(f\"使用设备: {device}\")"
   ]
  },
  {
   "cell_type": "markdown",
   "id": "2d9470fa",
   "metadata": {},
   "source": [
    "#### 四、数据集类"
   ]
  },
  {
   "cell_type": "code",
   "execution_count": 18,
   "id": "c70ca142",
   "metadata": {},
   "outputs": [],
   "source": [
    "class CTDataset(Dataset):\n",
    "    def __init__(self, descriptions, labels=None):\n",
    "        self.descriptions = descriptions\n",
    "        self.labels = labels\n",
    "        \n",
    "    def __len__(self):\n",
    "        return len(self.descriptions)\n",
    "    \n",
    "    def __getitem__(self, idx):\n",
    "        desc = self.descriptions[idx]\n",
    "        if self.labels is not None:\n",
    "            label = self.labels[idx]\n",
    "            return desc, label\n",
    "        return desc"
   ]
  },
  {
   "cell_type": "markdown",
   "id": "78f64115",
   "metadata": {},
   "source": [
    "#### 五、位置编码类"
   ]
  },
  {
   "cell_type": "code",
   "execution_count": 19,
   "id": "7d30ce79",
   "metadata": {},
   "outputs": [],
   "source": [
    "class PositionalEncoding(nn.Module):\n",
    "    def __init__(self, d_model, dropout=0.1, max_len=5000):\n",
    "        super(PositionalEncoding, self).__init__()\n",
    "        self.dropout = nn.Dropout(p=dropout)\n",
    "        \n",
    "        if max_len is None:\n",
    "            max_len = 5000\n",
    "            \n",
    "        pe = torch.zeros(max_len, d_model)\n",
    "        position = torch.arange(0, max_len, dtype=torch.float).unsqueeze(1)\n",
    "        div_term = torch.exp(torch.arange(0, d_model, 2).float() * (-math.log(10000.0) / d_model))\n",
    "        pe[:, 0::2] = torch.sin(position * div_term)\n",
    "        pe[:, 1::2] = torch.cos(position * div_term)\n",
    "        pe = pe.unsqueeze(0).transpose(0, 1)\n",
    "        self.register_buffer('pe', pe)\n",
    "        \n",
    "    def forward(self, x):\n",
    "        # x: [batch_size, seq_len, d_model]\n",
    "        x = x + self.pe[:x.size(1), :].transpose(0, 1)\n",
    "        return self.dropout(x)"
   ]
  },
  {
   "cell_type": "markdown",
   "id": "7e97b592",
   "metadata": {},
   "source": [
    "#### 六、学习率查找器\n",
    "**参数**:\n",
    "\n",
    "    model_class: 模型的类 (例如 CTClassifier 或 TransformerClassifier)\n",
    "    model_params: 一个字典，包含传递给模型构造函数的参数 (例如 vocab_size, embedding_dim, ...)\n",
    "    train_loader: 训练数据加载器\n",
    "    criterion: 损失函数\n",
    "    device: 'cuda' 或 'cpu'\n",
    "    init_lr: 初始学习率\n",
    "    final_lr: 最终学习率\n",
    "    num_steps: 在多少步内从 init_lr 增加到 final_lr"
   ]
  },
  {
   "cell_type": "code",
   "execution_count": null,
   "id": "29f3562f",
   "metadata": {},
   "outputs": [],
   "source": []
  },
  {
   "cell_type": "markdown",
   "id": "30ecf878",
   "metadata": {},
   "source": [
    "#### 七、修正的数据加载与预处理函数"
   ]
  },
  {
   "cell_type": "code",
   "execution_count": 20,
   "id": "87da2cbd",
   "metadata": {},
   "outputs": [],
   "source": [
    "def load_data(train_path, test_path=None):\n",
    "    # 加载训练数据，使用'|'作为分隔符\n",
    "    col_names = ['report_ID', 'description', 'label']\n",
    "    train_df = pd.read_csv(train_path, sep=r'\\|,\\|', header=None, names=col_names, engine='python', dtype=str)\n",
    "    # 确认实际有3列数据（report_ID, description, label）\n",
    "    train_df.columns = ['report_ID', 'description', 'label']\n",
    "    \n",
    "    # 处理description列，将字符串转换为整数列表\n",
    "    train_descriptions = []\n",
    "    for desc in train_df['description'].values:\n",
    "        if pd.isna(desc) or desc.strip() == '':\n",
    "            tokens = []\n",
    "        else:\n",
    "            tokens = list(map(int, desc.strip().split()))\n",
    "        train_descriptions.append(tokens)\n",
    "    \n",
    "    # 处理标签列\n",
    "    train_labels = np.zeros((len(train_df), 17))\n",
    "    for i, label_str in enumerate(train_df['label'].values):\n",
    "        if pd.notna(label_str) and label_str.strip() != '':\n",
    "            valid_labels = [l for l in str(label_str).strip().split() if l]\n",
    "            for label in label_str.strip().split():\n",
    "                train_labels[i, int(label)] = 1\n",
    "    \n",
    "    # 统计数据特征\n",
    "    seq_lengths = [len(desc) for desc in train_descriptions]\n",
    "    max_seq_len = max(seq_lengths) if seq_lengths else 0\n",
    "    vocab_size = 0\n",
    "    if train_descriptions:\n",
    "        all_tokens = [token for desc in train_descriptions if desc for token in desc]\n",
    "        if all_tokens:\n",
    "            vocab_size = max(all_tokens) + 1\n",
    "        else:\n",
    "            vocab_size = 1 # 避免词汇表大小为0\n",
    "    else:\n",
    "        vocab_size = 1\n",
    "    print(f\"训练集大小: {len(train_df)}\")\n",
    "    if seq_lengths:\n",
    "        print(f\"序列平均长度: {np.mean(seq_lengths):.2f}\")\n",
    "        print(f\"序列最大长度: {max_seq_len}\")\n",
    "        print(f\"序列最小长度: {min(seq_lengths)}\")\n",
    "    else:\n",
    "        print(\"序列统计信息：数据为空或所有序列为空\")\n",
    "    print(f\"词汇表大小: {vocab_size}\")\n",
    "    \n",
    "    # 标签分布\n",
    "    label_dist = train_labels.sum(axis=0)\n",
    "    print(\"各区域异常标签分布:\")\n",
    "    for i, count in enumerate(label_dist):\n",
    "        print(f\"区域 {i}: {count} 例 ({count/len(train_df)*100:.2f}%)\")\n",
    "    \n",
    "    # 加载测试数据（如果提供）\n",
    "    test_descriptions = None\n",
    "    test_report_ids = None\n",
    "    if test_path:\n",
    "        test_df = pd.read_csv(test_path, sep=r'\\|,\\|', header=None, names=col_names, engine='python', dtype=str)\n",
    "        test_report_ids = test_df['report_ID'].values\n",
    "\n",
    "        test_descriptions = []\n",
    "        for desc in test_df['description'].values:\n",
    "            if pd.isna(desc) or str(desc).strip() == '':\n",
    "                tokens = []\n",
    "            else:\n",
    "                tokens = list(map(int, str(desc).strip().split()))\n",
    "            test_descriptions.append(tokens)\n",
    "        print(f\"测试集大小: {len(test_df)}\")\n",
    "    \n",
    "    return train_descriptions, train_labels, test_descriptions, test_report_ids, vocab_size, max_seq_len"
   ]
  },
  {
   "cell_type": "markdown",
   "id": "51f36013",
   "metadata": {},
   "source": [
    "#### 八、批次数据进行填充"
   ]
  },
  {
   "cell_type": "code",
   "execution_count": 21,
   "id": "10df6210",
   "metadata": {},
   "outputs": [],
   "source": [
    "def collate_fn(batch):\n",
    "    if isinstance(batch[0], tuple):  # 训练模式，有标签\n",
    "        descriptions = [item[0] for item in batch]\n",
    "        labels_list_of_ndarrays = [item[1] for item in batch]\n",
    "        labels_np_array = np.array(labels_list_of_ndarrays) # 先转换为单个NumPy数组\n",
    "        labels = torch.tensor(labels_np_array, dtype=torch.float32) # 再转换为Tensor\n",
    "        \n",
    "        # 计算这个批次中的最大长度\n",
    "        max_len = max(len(desc) for desc in descriptions) if descriptions and all(desc for desc in descriptions) else 1\n",
    "        \n",
    "        # 填充序列\n",
    "        padded_descs = []\n",
    "        attention_masks = []\n",
    "        for desc in descriptions:\n",
    "            padded_desc = desc + [0] * (max_len - len(desc))\n",
    "            attention_mask = [1] * len(desc) + [0] * (max_len - len(desc))\n",
    "            padded_descs.append(padded_desc)\n",
    "            attention_masks.append(attention_mask)\n",
    "            \n",
    "        padded_descs = torch.tensor(padded_descs, dtype=torch.long)\n",
    "        attention_masks = torch.tensor(attention_masks, dtype=torch.float32)\n",
    "        \n",
    "        return padded_descs, attention_masks, labels\n",
    "    else:  # 测试模式，无标签\n",
    "        descriptions = batch\n",
    "        max_len = max(len(desc) for desc in descriptions) if descriptions and all(desc for desc in descriptions) else 1\n",
    "        \n",
    "        padded_descs = []\n",
    "        attention_masks = []\n",
    "        for desc in descriptions:\n",
    "            padded_desc = desc + [0] * (max_len - len(desc))\n",
    "            attention_mask = [1] * len(desc) + [0] * (max_len - len(desc))\n",
    "            padded_descs.append(padded_desc)\n",
    "            attention_masks.append(attention_mask)\n",
    "            \n",
    "        padded_descs = torch.tensor(padded_descs, dtype=torch.long)\n",
    "        attention_masks = torch.tensor(attention_masks, dtype=torch.float32)\n",
    "        \n",
    "        return padded_descs, attention_masks"
   ]
  },
  {
   "cell_type": "markdown",
   "id": "758efd1b",
   "metadata": {},
   "source": [
    "#### 九、定义LSTM模型"
   ]
  },
  {
   "cell_type": "code",
   "execution_count": 22,
   "id": "e9913126",
   "metadata": {},
   "outputs": [],
   "source": [
    "class CTClassifier(nn.Module):\n",
    "    def __init__(self, vocab_size, embedding_dim, hidden_dim, num_layers, dropout_rate, num_classes):\n",
    "        super(CTClassifier, self).__init__()\n",
    "        self.embedding = nn.Embedding(vocab_size, embedding_dim, padding_idx=0)\n",
    "        self.lstm = nn.LSTM(embedding_dim, hidden_dim, num_layers=num_layers, \n",
    "                           batch_first=True, bidirectional=True, dropout=dropout_rate if num_layers > 1 else 0)\n",
    "        self.dropout = nn.Dropout(dropout_rate)\n",
    "        self.fc = nn.Linear(hidden_dim * 2, num_classes)  # 双向LSTM，输出维度乘2\n",
    "        \n",
    "    def forward(self, x, attention_mask):\n",
    "        # x: [batch_size, seq_len]\n",
    "        # attention_mask: [batch_size, seq_len]\n",
    "        \n",
    "        embedded = self.embedding(x)  # [batch_size, seq_len, embedding_dim]\n",
    "        \n",
    "        # 应用注意力掩码：将padding部分的embedding置为0\n",
    "        embedded = embedded * attention_mask.unsqueeze(2)\n",
    "        \n",
    "        # LSTM层\n",
    "        lstm_out, _ = self.lstm(embedded)  # [batch_size, seq_len, hidden_dim*2]\n",
    "        \n",
    "        # 使用序列中的最后一个非padding元素的输出\n",
    "        seq_lengths = attention_mask.sum(dim=1).long()\n",
    "        batch_size = x.size(0)\n",
    "        \n",
    "        # 获取每个序列中最后一个非padding元素的索引\n",
    "        idx = (seq_lengths - 1).view(-1, 1).expand(batch_size, lstm_out.size(2))\n",
    "        idx = idx.unsqueeze(1)\n",
    "        \n",
    "        # 收集最后一个非padding元素的输出\n",
    "        last_hidden = lstm_out.gather(1, idx).squeeze(1)\n",
    "        \n",
    "        # Dropout和全连接层\n",
    "        last_hidden = self.dropout(last_hidden)\n",
    "        logits = self.fc(last_hidden)  # [batch_size, num_classes]\n",
    "        \n",
    "        # 使用sigmoid激活函数得到每个类别的概率\n",
    "        return torch.sigmoid(logits)"
   ]
  },
  {
   "cell_type": "markdown",
   "id": "8f28da4a",
   "metadata": {},
   "source": [
    "#### 十、定义Transformer模型"
   ]
  },
  {
   "cell_type": "code",
   "execution_count": 23,
   "id": "ca296152",
   "metadata": {},
   "outputs": [],
   "source": [
    "class TransformerClassifier(nn.Module):\n",
    "    def __init__(self, vocab_size, embedding_dim, nhead, num_layers, dim_feedforward, dropout_rate, num_classes):\n",
    "        super(TransformerClassifier, self).__init__()\n",
    "        self.embedding = nn.Embedding(vocab_size, embedding_dim, padding_idx=0)\n",
    "        self.pos_encoder = PositionalEncoding(embedding_dim, dropout_rate, max_len=256) # 假设你的最大序列长度是512或更小\n",
    "\n",
    "        encoder_layer = nn.TransformerEncoderLayer(\n",
    "            d_model=embedding_dim,\n",
    "            nhead=nhead,\n",
    "            dim_feedforward=dim_feedforward,\n",
    "            dropout=dropout_rate,\n",
    "            batch_first=True\n",
    "        )\n",
    "        self.transformer_encoder = nn.TransformerEncoder(encoder_layer, num_layers=num_layers)\n",
    "        \n",
    "        self.dropout = nn.Dropout(dropout_rate)\n",
    "        self.fc = nn.Linear(embedding_dim, num_classes)\n",
    "        \n",
    "    def forward(self, x, attention_mask):\n",
    "        # x: [batch_size, seq_len]\n",
    "        # attention_mask: [batch_size, seq_len]\n",
    "        \n",
    "        embedded = self.embedding(x)  # [batch_size, seq_len, embedding_dim]\n",
    "        embedded = self.pos_encoder(embedded) # <--- 添加这一行\n",
    "        \n",
    "        # 创建Transformer的注意力掩码（注意这里掩码的定义与之前不同）\n",
    "        # 在Transformer中，1表示要遮盖的位置，0表示要保留的位置\n",
    "        transformer_mask = (1.0 - attention_mask).bool()\n",
    "        \n",
    "        # 应用Transformer编码器\n",
    "        transformer_out = self.transformer_encoder(embedded, src_key_padding_mask=transformer_mask)\n",
    "        \n",
    "        # 计算池化后的表示\n",
    "        # 这里使用注意力掩码来进行平均池化，只考虑非填充的token\n",
    "        expanded_mask = attention_mask.unsqueeze(-1)\n",
    "        masked_output = transformer_out * expanded_mask\n",
    "        sum_embeddings = masked_output.sum(1)\n",
    "        sum_mask = expanded_mask.sum(1)\n",
    "        # 防止除以0\n",
    "        sum_mask = torch.clamp(sum_mask, min=1.0)\n",
    "        pooled_output = sum_embeddings / sum_mask\n",
    "        \n",
    "        # Dropout和全连接层\n",
    "        pooled_output = self.dropout(pooled_output)\n",
    "        logits = self.fc(pooled_output)  # [batch_size, num_classes]\n",
    "        \n",
    "        # 使用sigmoid激活函数得到每个类别的概率\n",
    "        return logits"
   ]
  },
  {
   "cell_type": "markdown",
   "id": "4ad39a79",
   "metadata": {},
   "source": [
    "#### 十一、训练函数"
   ]
  },
  {
   "cell_type": "code",
   "execution_count": 24,
   "id": "21d6a804",
   "metadata": {},
   "outputs": [],
   "source": [
    "def train_model(model, train_loader, val_loader, optimizer, criterion, num_epochs, model_path, scheduler=None):\n",
    "    best_val_loss = float('inf')\n",
    "    train_losses = []\n",
    "    val_losses = []\n",
    "    \n",
    "    for epoch in range(num_epochs):\n",
    "        # 训练阶段\n",
    "        model.train()\n",
    "        train_loss = 0\n",
    "        progress_bar = tqdm(train_loader, desc=f'Epoch {epoch+1}/{num_epochs} [Train]')\n",
    "        \n",
    "        for batch in progress_bar:\n",
    "            inputs, attention_masks, labels = batch\n",
    "            inputs, attention_masks, labels = inputs.to(device), attention_masks.to(device), labels.to(device)\n",
    "            \n",
    "            # 前向传播\n",
    "            optimizer.zero_grad()\n",
    "            outputs = model(inputs, attention_masks)\n",
    "            loss = criterion(outputs, labels)\n",
    "            \n",
    "            # 反向传播和优化\n",
    "            loss.backward()\n",
    "            optimizer.step()\n",
    "            \n",
    "            train_loss += loss.item()\n",
    "            progress_bar.set_postfix({'loss': loss.item()})\n",
    "        \n",
    "        train_loss /= len(train_loader)\n",
    "        train_losses.append(train_loss)\n",
    "        \n",
    "        # 验证阶段\n",
    "        model.eval()\n",
    "        val_loss = 0\n",
    "        all_labels = []\n",
    "        all_preds = []\n",
    "        \n",
    "        with torch.no_grad():\n",
    "            progress_bar = tqdm(val_loader, desc=f'Epoch {epoch+1}/{num_epochs} [Val]')\n",
    "            for batch in progress_bar:\n",
    "                inputs, attention_masks, labels = batch\n",
    "                inputs, attention_masks, labels = inputs.to(device), attention_masks.to(device), labels.to(device)\n",
    "                \n",
    "                outputs = model(inputs, attention_masks)\n",
    "                loss = criterion(outputs, labels)\n",
    "                \n",
    "                val_loss += loss.item()\n",
    "                progress_bar.set_postfix({'loss': loss.item()})\n",
    "                \n",
    "                all_labels.append(labels.cpu().numpy())\n",
    "                all_preds.append(outputs.cpu().numpy())\n",
    "        \n",
    "        val_loss /= len(val_loader)\n",
    "        val_losses.append(val_loss)\n",
    "        \n",
    "        # 计算验证集上的AUC\n",
    "        all_labels = np.vstack(all_labels)\n",
    "        all_preds = np.vstack(all_preds)\n",
    "        \n",
    "        # 计算每个类别的AUC\n",
    "        aucs = []\n",
    "        for i in range(all_labels.shape[1]):\n",
    "            # 检查该类别是否有正样本和负样本\n",
    "            if np.sum(all_labels[:, i]) > 0 and np.sum(all_labels[:, i]) < len(all_labels):\n",
    "                auc = roc_auc_score(all_labels[:, i], all_preds[:, i])\n",
    "                aucs.append(auc)\n",
    "        \n",
    "        # 计算平均AUC\n",
    "        mean_auc = np.mean(aucs) if aucs else 0\n",
    "        \n",
    "        print(f'Epoch {epoch+1}/{num_epochs}, Train Loss: {train_loss}, Val Loss: {val_loss}, Val AUC: {mean_auc}')\n",
    "        if scheduler is not None:\n",
    "            if isinstance(scheduler, torch.optim.lr_scheduler.ReduceLROnPlateau):\n",
    "                scheduler.step(mean_auc) # 基于验证AUC调整学习率 (因为 mode='max')\n",
    "                                         # 如果你的 scheduler mode='min'，则用 val_loss\n",
    "        current_lr = optimizer.param_groups[0]['lr']\n",
    "        print(f'  Current Learning Rate for Epoch {epoch+1}: {current_lr}') # 使用科学计数法打印，更清晰\n",
    "        # 保存最佳模型\n",
    "        if val_loss < best_val_loss:\n",
    "            best_val_loss = val_loss\n",
    "            torch.save(model.state_dict(), model_path)\n",
    "            print(f'Model saved to {model_path}')\n",
    "    \n",
    "    # 绘制损失曲线\n",
    "    plt.figure(figsize=(10, 5))\n",
    "    plt.plot(train_losses, label='Train Loss')\n",
    "    plt.plot(val_losses, label='Validation Loss')\n",
    "    plt.xlabel('Epoch')\n",
    "    plt.ylabel('Loss')\n",
    "    plt.legend()\n",
    "    plt.title('Training and Validation Loss')\n",
    "    plt.savefig('loss_curve.png')\n",
    "    \n",
    "    return train_losses, val_losses"
   ]
  },
  {
   "cell_type": "markdown",
   "id": "3eafe5be",
   "metadata": {},
   "source": [
    "#### 十二、预测函数"
   ]
  },
  {
   "cell_type": "code",
   "execution_count": 25,
   "id": "71bca422",
   "metadata": {},
   "outputs": [],
   "source": [
    "def predict(model, test_loader):\n",
    "    model.eval()\n",
    "    all_preds = []\n",
    "    \n",
    "    with torch.no_grad():\n",
    "        for batch in tqdm(test_loader, desc='Predicting'):\n",
    "            inputs, attention_masks = batch\n",
    "            inputs, attention_masks = inputs.to(device), attention_masks.to(device)\n",
    "            \n",
    "            logits = model(inputs, attention_masks) # 模型现在返回 logits\n",
    "            probabilities = torch.sigmoid(logits)   # <--- 在这里转换为概率\n",
    "            all_preds.append(probabilities.cpu().numpy()) # 保存概率\n",
    "    \n",
    "    return np.vstack(all_preds) # 返回概率的 NumPy 数组"
   ]
  },
  {
   "cell_type": "markdown",
   "id": "76120482",
   "metadata": {},
   "source": [
    "#### 十三、主函数"
   ]
  },
  {
   "cell_type": "code",
   "execution_count": 26,
   "id": "82e3d7b1",
   "metadata": {},
   "outputs": [],
   "source": [
    "def main(train_path, test_path, model_type='transformer', batch_size=32, epochs=10, lr=0.001,\n",
    "         embedding_dim=128, hidden_dim=128, num_layers=2, dropout_rate=0.3,\n",
    "         nhead=8, dim_feedforward=1024, output_file='predictions.csv', weight_decay=0.0, use_lr_scheduler=False, scheduler_patience=2, scheduler_factor=0.2):\n",
    "    # 加载数据\n",
    "    train_descriptions, train_labels, test_descriptions, test_report_ids, vocab_size, max_seq_len = load_data(train_path, test_path)\n",
    "    \n",
    "    # 确保词汇表大小至少为1\n",
    "    vocab_size = max(vocab_size, 1)\n",
    "    \n",
    "    # 划分训练集和验证集\n",
    "    val_size = int(0.1 * len(train_descriptions))\n",
    "    indices = list(range(len(train_descriptions)))\n",
    "    np.random.shuffle(indices)\n",
    "    \n",
    "    train_indices = indices[val_size:]\n",
    "    val_indices = indices[:val_size]\n",
    "    \n",
    "    train_descs = [train_descriptions[i] for i in train_indices]\n",
    "    train_labs = train_labels[train_indices]\n",
    "    \n",
    "    val_descs = [train_descriptions[i] for i in val_indices]\n",
    "    val_labs = train_labels[val_indices]\n",
    "    \n",
    "    # 创建数据集和数据加载器\n",
    "    train_dataset = CTDataset(train_descs, train_labs)\n",
    "    val_dataset = CTDataset(val_descs, val_labs)\n",
    "    \n",
    "    train_loader = DataLoader(train_dataset, batch_size=batch_size, shuffle=True, collate_fn=collate_fn)\n",
    "    val_loader = DataLoader(val_dataset, batch_size=batch_size, collate_fn=collate_fn)\n",
    "    \n",
    "    num_classes = 17\n",
    "    \n",
    "    # 创建模型\n",
    "    \n",
    "    if model_type == 'lstm':\n",
    "        model = CTClassifier(\n",
    "            vocab_size=vocab_size,\n",
    "            embedding_dim=embedding_dim,\n",
    "            hidden_dim=hidden_dim,\n",
    "            num_layers=num_layers,\n",
    "            dropout_rate=dropout_rate,\n",
    "            num_classes=num_classes\n",
    "        )\n",
    "        model_path = 'ct_lstm_model.pth'\n",
    "    else:  # transformer\n",
    "        model = TransformerClassifier(\n",
    "            vocab_size=vocab_size,\n",
    "            embedding_dim=embedding_dim,\n",
    "            nhead=nhead,\n",
    "            num_layers=num_layers,\n",
    "            dim_feedforward=dim_feedforward,\n",
    "            dropout_rate=dropout_rate,\n",
    "            num_classes=num_classes\n",
    "        )\n",
    "        model_path = 'ct_transformer_model.pth'\n",
    "    \n",
    "    model = model.to(device)\n",
    "    \n",
    "    # 优化器和损失函数\n",
    "    optimizer = optim.AdamW(model.parameters(), lr=lr, weight_decay=weight_decay)\n",
    "    criterion = nn.BCEWithLogitsLoss() \n",
    "\n",
    "    # --- 学习率调度器 ---\n",
    "    scheduler = None # 初始化为 None\n",
    "    if args.use_lr_scheduler: # args.use_lr_scheduler 是从命令行解析的 bool(0) 或 bool(1)\n",
    "        scheduler = torch.optim.lr_scheduler.ReduceLROnPlateau(\n",
    "            optimizer, \n",
    "            mode='max',        # 因为我们监控 AUC，所以是 'max'\n",
    "            factor=args.scheduler_factor, \n",
    "            patience=args.scheduler_patience, \n",
    "            #verbose=True\n",
    "        )\n",
    "        print(\"学习率调度器 ReduceLROnPlateau 已启用。\")\n",
    "    else:\n",
    "        print(\"未使用学习率调度器。\")\n",
    "\n",
    "    \"\"\"\n",
    "    common_model_params = {\n",
    "        'vocab_size': vocab_size,\n",
    "        'embedding_dim': embedding_dim,\n",
    "        'num_layers': num_layers,\n",
    "        'dropout_rate': dropout_rate,\n",
    "        'num_classes': num_classes\n",
    "    }\n",
    "    if model_type == 'lstm':\n",
    "        model_class = CTClassifier\n",
    "        model_specific_params = {'hidden_dim': hidden_dim}\n",
    "        model_path = 'ct_lstm_model.pth'\n",
    "    else:  # transformer\n",
    "        model_class = TransformerClassifier\n",
    "        model_specific_params = {'nhead': nhead, 'dim_feedforward': dim_feedforward}\n",
    "        # 注意：Transformer 的 d_model 通常就是 embedding_dim\n",
    "        # TransformerEncoderLayer 的 dropout 是参数，TransformerEncoder 本身没有\n",
    "        model_path = 'ct_transformer_model.pth'\n",
    "    \n",
    "    current_model_params = {**common_model_params, **model_specific_params}\n",
    "\n",
    "    criterion = nn.BCEWithLogitsLoss() # BCELoss 用于 sigmoid 输出\n",
    "    find_lr(\n",
    "            model_class=model_class,\n",
    "            model_params=current_model_params,\n",
    "            train_loader=train_loader, # 使用完整的训练加载器\n",
    "            criterion=criterion,\n",
    "            device=device,\n",
    "            num_steps=100 # 可以根据 len(train_loader) 调整，例如 min(100, len(train_loader) -1)\n",
    "        )\n",
    "    print(\"学习率查找完成。请查看 lr_finder_plot.png 并根据图像选择学习率。\")\n",
    "    print(\"现在将退出程序。请修改 --lr 参数并重新运行进行训练。\")\n",
    "    return # 查找完LR后直接退出，不进行后续训练\n",
    "    \"\"\"\n",
    "\n",
    "    # 训练模型\n",
    "    train_model(model, train_loader, val_loader, optimizer, criterion, num_epochs=epochs, model_path=model_path, scheduler=scheduler)\n",
    "    \n",
    "    # 加载最佳模型\n",
    "    model.load_state_dict(torch.load(model_path))\n",
    "    \n",
    "    # 在测试集上进行预测\n",
    "    if test_descriptions:\n",
    "        test_dataset = CTDataset(test_descriptions)\n",
    "        test_loader = DataLoader(test_dataset, batch_size=batch_size, collate_fn=collate_fn)\n",
    "        \n",
    "        predictions = predict(model, test_loader)\n",
    "        \n",
    "        # 保存预测结果\n",
    "        # 1. 将17维概率向量转换为单个空格分隔的字符串\n",
    "        probability_strings = []\n",
    "        for i in range(predictions.shape[0]): # predictions 是一个 (n_samples, 17) 的 NumPy 数组\n",
    "            # 将当前行的17个浮点数概率转换为字符串，并用空格连接\n",
    "            # str(p) 会自动处理浮点数的显示，包括科学计数法（如你例子所示）\n",
    "            current_prob_str = ' '.join([str(p) for p in predictions[i, :]])\n",
    "            probability_strings.append(current_prob_str)\n",
    "            \n",
    "        # 2. 创建一个包含两列的 DataFrame：report_ID 和格式化后的概率字符串\n",
    "        # test_report_ids 应该是一个列表或一维NumPy数组，包含所有测试样本的ID\n",
    "        output_df = pd.DataFrame({\n",
    "            'report_ID': test_report_ids,\n",
    "            'probabilities': probability_strings\n",
    "        })\n",
    "        \n",
    "        # 3. 保存到 CSV，不带表头，不带索引，使用 '|,|' 作为分隔符\n",
    "        output_df.to_csv(output_file, header=False, index=False, sep='|')\n",
    "        \n",
    "        print(f'Predictions saved to {output_file}')"
   ]
  },
  {
   "cell_type": "markdown",
   "id": "8495efd2",
   "metadata": {},
   "source": [
    "#### 十四、设置参数"
   ]
  },
  {
   "cell_type": "code",
   "execution_count": 27,
   "id": "77777605",
   "metadata": {},
   "outputs": [],
   "source": [
    "class Args:\n",
    "    train = 'combined_train_data.csv'\n",
    "    test = 'track1_round1_testB.csv'\n",
    "    model = 'transformer'\n",
    "    batch_size = 64\n",
    "    epochs = 15\n",
    "    lr = 0.00141\n",
    "    embedding_dim = 256\n",
    "    hidden_dim = 256\n",
    "    num_layers = 2\n",
    "    dropout = 0.3\n",
    "    output = 'predictions.csv'\n",
    "    weight_decay = 1e-5\n",
    "    nhead = 4\n",
    "    dim_feedforward = 512\n",
    "    use_lr_scheduler = 0\n",
    "    scheduler_patience = 2\n",
    "    scheduler_factor = 0.99\n",
    "\n",
    "args = Args()\n"
   ]
  },
  {
   "cell_type": "markdown",
   "id": "8905f982",
   "metadata": {},
   "source": [
    "#### 十五、运行测试"
   ]
  },
  {
   "cell_type": "code",
   "execution_count": 28,
   "id": "b0f5e716",
   "metadata": {},
   "outputs": [
    {
     "name": "stdout",
     "output_type": "stream",
     "text": [
      "训练集大小: 30000\n",
      "序列平均长度: 36.53\n",
      "序列最大长度: 136\n",
      "序列最小长度: 2\n",
      "词汇表大小: 858\n",
      "各区域异常标签分布:\n",
      "区域 0: 3991.0 例 (13.30%)\n",
      "区域 1: 3017.0 例 (10.06%)\n",
      "区域 2: 2275.0 例 (7.58%)\n",
      "区域 3: 973.0 例 (3.24%)\n",
      "区域 4: 4137.0 例 (13.79%)\n",
      "区域 5: 837.0 例 (2.79%)\n",
      "区域 6: 474.0 例 (1.58%)\n",
      "区域 7: 3933.0 例 (13.11%)\n",
      "区域 8: 2938.0 例 (9.79%)\n",
      "区域 9: 2266.0 例 (7.55%)\n",
      "区域 10: 894.0 例 (2.98%)\n",
      "区域 11: 3894.0 例 (12.98%)\n",
      "区域 12: 856.0 例 (2.85%)\n",
      "区域 13: 540.0 例 (1.80%)\n",
      "区域 14: 1195.0 例 (3.98%)\n",
      "区域 15: 6043.0 例 (20.14%)\n",
      "区域 16: 1451.0 例 (4.84%)\n",
      "测试集大小: 3000\n",
      "未使用学习率调度器。\n"
     ]
    },
    {
     "name": "stderr",
     "output_type": "stream",
     "text": [
      "Epoch 1/15 [Train]: 100%|██████████| 422/422 [02:23<00:00,  2.93it/s, loss=0.173]\n",
      "Epoch 1/15 [Val]: 100%|██████████| 47/47 [00:03<00:00, 13.00it/s, loss=0.228]\n"
     ]
    },
    {
     "name": "stdout",
     "output_type": "stream",
     "text": [
      "Epoch 1/15, Train Loss: 0.20878789923484856, Val Loss: 0.18962898691917987, Val AUC: 0.8378727914677299\n",
      "  Current Learning Rate for Epoch 1: 0.00141\n",
      "Model saved to ct_transformer_model.pth\n"
     ]
    },
    {
     "name": "stderr",
     "output_type": "stream",
     "text": [
      "Epoch 2/15 [Train]: 100%|██████████| 422/422 [02:31<00:00,  2.79it/s, loss=0.167]\n",
      "Epoch 2/15 [Val]: 100%|██████████| 47/47 [00:03<00:00, 12.53it/s, loss=0.185]\n"
     ]
    },
    {
     "name": "stdout",
     "output_type": "stream",
     "text": [
      "Epoch 2/15, Train Loss: 0.17128398867933106, Val Loss: 0.16129921487671264, Val AUC: 0.8858129387576996\n",
      "  Current Learning Rate for Epoch 2: 0.00141\n",
      "Model saved to ct_transformer_model.pth\n"
     ]
    },
    {
     "name": "stderr",
     "output_type": "stream",
     "text": [
      "Epoch 3/15 [Train]: 100%|██████████| 422/422 [02:39<00:00,  2.64it/s, loss=0.207]\n",
      "Epoch 3/15 [Val]: 100%|██████████| 47/47 [00:03<00:00, 12.89it/s, loss=0.183]\n"
     ]
    },
    {
     "name": "stdout",
     "output_type": "stream",
     "text": [
      "Epoch 3/15, Train Loss: 0.1585130963951208, Val Loss: 0.15421032176372854, Val AUC: 0.8919633482059626\n",
      "  Current Learning Rate for Epoch 3: 0.00141\n",
      "Model saved to ct_transformer_model.pth\n"
     ]
    },
    {
     "name": "stderr",
     "output_type": "stream",
     "text": [
      "Epoch 4/15 [Train]: 100%|██████████| 422/422 [02:46<00:00,  2.54it/s, loss=0.145] \n",
      "Epoch 4/15 [Val]: 100%|██████████| 47/47 [00:03<00:00, 12.80it/s, loss=0.192]\n"
     ]
    },
    {
     "name": "stdout",
     "output_type": "stream",
     "text": [
      "Epoch 4/15, Train Loss: 0.15250261106762275, Val Loss: 0.1482811505173115, Val AUC: 0.906277751068122\n",
      "  Current Learning Rate for Epoch 4: 0.00141\n",
      "Model saved to ct_transformer_model.pth\n"
     ]
    },
    {
     "name": "stderr",
     "output_type": "stream",
     "text": [
      "Epoch 5/15 [Train]: 100%|██████████| 422/422 [02:51<00:00,  2.46it/s, loss=0.137]\n",
      "Epoch 5/15 [Val]: 100%|██████████| 47/47 [00:03<00:00, 12.18it/s, loss=0.188]\n"
     ]
    },
    {
     "name": "stdout",
     "output_type": "stream",
     "text": [
      "Epoch 5/15, Train Loss: 0.14990504730439863, Val Loss: 0.15554447123344908, Val AUC: 0.9063043630932204\n",
      "  Current Learning Rate for Epoch 5: 0.00141\n"
     ]
    },
    {
     "name": "stderr",
     "output_type": "stream",
     "text": [
      "Epoch 6/15 [Train]: 100%|██████████| 422/422 [02:56<00:00,  2.39it/s, loss=0.146]\n",
      "Epoch 6/15 [Val]: 100%|██████████| 47/47 [00:03<00:00, 12.91it/s, loss=0.19] \n"
     ]
    },
    {
     "name": "stdout",
     "output_type": "stream",
     "text": [
      "Epoch 6/15, Train Loss: 0.14739738000442065, Val Loss: 0.14954030022342155, Val AUC: 0.9129076585695944\n",
      "  Current Learning Rate for Epoch 6: 0.00141\n"
     ]
    },
    {
     "name": "stderr",
     "output_type": "stream",
     "text": [
      "Epoch 7/15 [Train]: 100%|██████████| 422/422 [02:59<00:00,  2.35it/s, loss=0.148]\n",
      "Epoch 7/15 [Val]: 100%|██████████| 47/47 [00:03<00:00, 12.83it/s, loss=0.207]\n"
     ]
    },
    {
     "name": "stdout",
     "output_type": "stream",
     "text": [
      "Epoch 7/15, Train Loss: 0.14599992371919032, Val Loss: 0.15123953210546615, Val AUC: 0.9127261031987725\n",
      "  Current Learning Rate for Epoch 7: 0.00141\n"
     ]
    },
    {
     "name": "stderr",
     "output_type": "stream",
     "text": [
      "Epoch 8/15 [Train]: 100%|██████████| 422/422 [03:02<00:00,  2.31it/s, loss=0.177] \n",
      "Epoch 8/15 [Val]: 100%|██████████| 47/47 [00:03<00:00, 12.79it/s, loss=0.211]\n"
     ]
    },
    {
     "name": "stdout",
     "output_type": "stream",
     "text": [
      "Epoch 8/15, Train Loss: 0.14503736382623986, Val Loss: 0.1601030002249048, Val AUC: 0.9182172456511253\n",
      "  Current Learning Rate for Epoch 8: 0.00141\n"
     ]
    },
    {
     "name": "stderr",
     "output_type": "stream",
     "text": [
      "Epoch 9/15 [Train]: 100%|██████████| 422/422 [03:03<00:00,  2.29it/s, loss=0.191] \n",
      "Epoch 9/15 [Val]: 100%|██████████| 47/47 [00:03<00:00, 13.10it/s, loss=0.197]\n"
     ]
    },
    {
     "name": "stdout",
     "output_type": "stream",
     "text": [
      "Epoch 9/15, Train Loss: 0.14522503899030775, Val Loss: 0.1543304132337266, Val AUC: 0.9200204607477821\n",
      "  Current Learning Rate for Epoch 9: 0.00141\n"
     ]
    },
    {
     "name": "stderr",
     "output_type": "stream",
     "text": [
      "Epoch 10/15 [Train]: 100%|██████████| 422/422 [03:13<00:00,  2.18it/s, loss=0.148]\n",
      "Epoch 10/15 [Val]: 100%|██████████| 47/47 [00:03<00:00, 12.41it/s, loss=0.188]\n"
     ]
    },
    {
     "name": "stdout",
     "output_type": "stream",
     "text": [
      "Epoch 10/15, Train Loss: 0.14414479613516004, Val Loss: 0.14725734436131538, Val AUC: 0.9211503811850953\n",
      "  Current Learning Rate for Epoch 10: 0.00141\n",
      "Model saved to ct_transformer_model.pth\n"
     ]
    },
    {
     "name": "stderr",
     "output_type": "stream",
     "text": [
      "Epoch 11/15 [Train]: 100%|██████████| 422/422 [03:10<00:00,  2.21it/s, loss=0.142] \n",
      "Epoch 11/15 [Val]: 100%|██████████| 47/47 [00:03<00:00, 12.99it/s, loss=0.168]\n"
     ]
    },
    {
     "name": "stdout",
     "output_type": "stream",
     "text": [
      "Epoch 11/15, Train Loss: 0.14717691292836202, Val Loss: 0.14656021556955703, Val AUC: 0.91261930153165\n",
      "  Current Learning Rate for Epoch 11: 0.00141\n",
      "Model saved to ct_transformer_model.pth\n"
     ]
    },
    {
     "name": "stderr",
     "output_type": "stream",
     "text": [
      "Epoch 12/15 [Train]: 100%|██████████| 422/422 [03:08<00:00,  2.24it/s, loss=0.126] \n",
      "Epoch 12/15 [Val]: 100%|██████████| 47/47 [00:03<00:00, 13.03it/s, loss=0.167]\n"
     ]
    },
    {
     "name": "stdout",
     "output_type": "stream",
     "text": [
      "Epoch 12/15, Train Loss: 0.1472757593397563, Val Loss: 0.14432099699339968, Val AUC: 0.9236632016963688\n",
      "  Current Learning Rate for Epoch 12: 0.00141\n",
      "Model saved to ct_transformer_model.pth\n"
     ]
    },
    {
     "name": "stderr",
     "output_type": "stream",
     "text": [
      "Epoch 13/15 [Train]: 100%|██████████| 422/422 [03:08<00:00,  2.24it/s, loss=0.127]\n",
      "Epoch 13/15 [Val]: 100%|██████████| 47/47 [00:03<00:00, 12.66it/s, loss=0.171]\n"
     ]
    },
    {
     "name": "stdout",
     "output_type": "stream",
     "text": [
      "Epoch 13/15, Train Loss: 0.14694447162168287, Val Loss: 0.14728709135917908, Val AUC: 0.9197719196741952\n",
      "  Current Learning Rate for Epoch 13: 0.00141\n"
     ]
    },
    {
     "name": "stderr",
     "output_type": "stream",
     "text": [
      "Epoch 14/15 [Train]: 100%|██████████| 422/422 [03:10<00:00,  2.21it/s, loss=0.174] \n",
      "Epoch 14/15 [Val]: 100%|██████████| 47/47 [00:03<00:00, 13.20it/s, loss=0.166] \n"
     ]
    },
    {
     "name": "stdout",
     "output_type": "stream",
     "text": [
      "Epoch 14/15, Train Loss: 0.15026068434966683, Val Loss: 0.14425869618958614, Val AUC: 0.9230756867954161\n",
      "  Current Learning Rate for Epoch 14: 0.00141\n",
      "Model saved to ct_transformer_model.pth\n"
     ]
    },
    {
     "name": "stderr",
     "output_type": "stream",
     "text": [
      "Epoch 15/15 [Train]: 100%|██████████| 422/422 [03:13<00:00,  2.18it/s, loss=0.162] \n",
      "Epoch 15/15 [Val]: 100%|██████████| 47/47 [00:03<00:00, 13.24it/s, loss=0.154]\n"
     ]
    },
    {
     "name": "stdout",
     "output_type": "stream",
     "text": [
      "Epoch 15/15, Train Loss: 0.14324217642794287, Val Loss: 0.14526904406065635, Val AUC: 0.9238870374669665\n",
      "  Current Learning Rate for Epoch 15: 0.00141\n"
     ]
    },
    {
     "name": "stderr",
     "output_type": "stream",
     "text": [
      "Predicting: 100%|██████████| 47/47 [00:03<00:00, 12.51it/s]\n"
     ]
    },
    {
     "name": "stdout",
     "output_type": "stream",
     "text": [
      "Predictions saved to predictions.csv\n"
     ]
    },
    {
     "data": {
      "image/png": "[encoded data removed]",
      "text/plain": [
       "<Figure size 1000x500 with 1 Axes>"
      ]
     },
     "metadata": {},
     "output_type": "display_data"
    }
   ],
   "source": [
    "if __name__ == \"__main__\":\n",
    "    \"\"\"\n",
    "    # 命令行参数处理\n",
    "    import argparse\n",
    "    \n",
    "    parser = argparse.ArgumentParser(description='CT影像文本多标签分类模型')\n",
    "    parser.add_argument('--train', type=str, default='track1_round1_train_20210222.csv', help='训练数据文件路径')\n",
    "    parser.add_argument('--test', type=str, default='track1_round1_testB.csv', help='测试数据文件路径')\n",
    "    parser.add_argument('--model', type=str, default='transformer', choices=['lstm', 'transformer'], \n",
    "                        help='模型类型: lstm 或 transformer')\n",
    "    parser.add_argument('--batch_size', type=int, default=64, help='批次大小')\n",
    "    parser.add_argument('--epochs', type=int, default=15, help='训练轮数')\n",
    "    parser.add_argument('--lr', type=float, default=0.0014, help='学习率')\n",
    "    parser.add_argument('--embedding_dim', type=int, default=256, help='嵌入层维度')\n",
    "    parser.add_argument('--hidden_dim', type=int, default=256, help='隐藏层维度')\n",
    "    parser.add_argument('--num_layers', type=int, default=2, help='层数')\n",
    "    parser.add_argument('--dropout', type=float, default=0.3, help='Dropout比例')\n",
    "    parser.add_argument('--output', type=str, default='predictions.csv', help='预测结果输出文件')\n",
    "    parser.add_argument('--weight_decay', type=float, default=1e-5, help='优化器的权重衰减系数 (L2正则化), 例如 1e-5, 1e-4')\n",
    "    # Transformer 特有参数 (确保它们存在)\n",
    "    parser.add_argument('--nhead', type=int, default=4, help='Transformer nhead (Transformer only)')\n",
    "    parser.add_argument('--dim_feedforward', type=int, default=512, help='Transformer dim_feedforward (Transformer only)')\n",
    "    \n",
    "    # 学习率调度器参数\n",
    "    parser.add_argument('--use_lr_scheduler', type=int, default=0, help='是否使用学习率调度器 (0: 不使用, 1: 使用)')\n",
    "    parser.add_argument('--scheduler_patience', type=int, default=2, help='学习率调度器的耐心参数')\n",
    "    parser.add_argument('--scheduler_factor', type=float, default=0.99, help='学习率调度器的缩放因子')\n",
    "\n",
    "    args = parser.parse_args()\n",
    "    \"\"\"\n",
    "    \n",
    "    # 运行主函数\n",
    "    main(args.train, args.test, model_type=args.model, batch_size=args.batch_size,\n",
    "         epochs=args.epochs, lr=args.lr, embedding_dim=args.embedding_dim,\n",
    "         hidden_dim=args.hidden_dim, num_layers=args.num_layers,\n",
    "         dropout_rate=args.dropout, output_file=args.output, nhead=args.nhead,\n",
    "         dim_feedforward=args.dim_feedforward, weight_decay=args.weight_decay,\n",
    "         use_lr_scheduler=bool(args.use_lr_scheduler), # <--- 确保这些已在调用中\n",
    "         scheduler_patience=args.scheduler_patience,\n",
    "         scheduler_factor=args.scheduler_factor)"
   ]
  }
 ],
 "metadata": {
  "kernelspec": {
   "display_name": "Pytorch_Env",
   "language": "python",
   "name": "you_env_name"
  },
  "language_info": {
   "codemirror_mode": {
    "name": "ipython",
    "version": 3
   },
   "file_extension": ".py",
   "mimetype": "text/x-python",
   "name": "python",
   "nbconvert_exporter": "python",
   "pygments_lexer": "ipython3",
   "version": "3.12.9"
  }
 },
 "nbformat": 4,
 "nbformat_minor": 5
}
